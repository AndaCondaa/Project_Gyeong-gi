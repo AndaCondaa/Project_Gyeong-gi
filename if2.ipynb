{
 "cells": [
  {
   "cell_type": "code",
   "execution_count": 1,
   "id": "c675f3ce",
   "metadata": {},
   "outputs": [],
   "source": [
    "# 다음의 결과와 같이 임의의 양의 정수를 입력받아 그 정수의 모든 약수를 구하십시오\n",
    "\n",
    "# (단, 약수가 2개일 경우 소수임을 나타내십시오)"
   ]
  },
  {
   "cell_type": "code",
   "execution_count": 27,
   "id": "a6ced3a5",
   "metadata": {
    "scrolled": true
   },
   "outputs": [
    {
     "name": "stdout",
     "output_type": "stream",
     "text": [
      "5\n",
      "1(은)는 5의 약수입니다.\n",
      "5(은)는 5의 약수입니다.\n",
      "5(은)는 1과 5로만 나눌 수 있는 소수입니다.\n"
     ]
    }
   ],
   "source": [
    "def output(N):\n",
    "    s = []\n",
    "    for i in range(1,N+1):\n",
    "        if (N % i) == 0:\n",
    "            print(f\"{i}(은)는 {N}의 약수입니다.\")\n",
    "            s.append(i)\n",
    "    if len(s) == 2:\n",
    "        print(f\"{N}(은)는 {s[0]}과 {s[1]}로만 나눌 수 있는 소수입니다.\")\n",
    "\n",
    "N = int(input())\n",
    "output(N)"
   ]
  },
  {
   "cell_type": "code",
   "execution_count": null,
   "id": "77edae24",
   "metadata": {},
   "outputs": [],
   "source": []
  }
 ],
 "metadata": {
  "kernelspec": {
   "display_name": "Python 3 (ipykernel)",
   "language": "python",
   "name": "python3"
  },
  "language_info": {
   "codemirror_mode": {
    "name": "ipython",
    "version": 3
   },
   "file_extension": ".py",
   "mimetype": "text/x-python",
   "name": "python",
   "nbconvert_exporter": "python",
   "pygments_lexer": "ipython3",
   "version": "3.9.12"
  },
  "toc": {
   "base_numbering": 1,
   "nav_menu": {},
   "number_sections": true,
   "sideBar": true,
   "skip_h1_title": false,
   "title_cell": "Table of Contents",
   "title_sidebar": "Contents",
   "toc_cell": false,
   "toc_position": {},
   "toc_section_display": true,
   "toc_window_display": false
  }
 },
 "nbformat": 4,
 "nbformat_minor": 5
}
